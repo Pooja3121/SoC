{
  "nbformat": 4,
  "nbformat_minor": 0,
  "metadata": {
    "colab": {
      "name": "Musify 2.ipynb",
      "provenance": []
    },
    "kernelspec": {
      "name": "python3",
      "display_name": "Python 3"
    },
    "language_info": {
      "name": "python"
    },
    "accelerator": "GPU",
    "gpuClass": "standard"
  },
  "cells": [
    {
      "cell_type": "code",
      "source": [
        "! unzip 'All Midi Files.zip'"
      ],
      "metadata": {
        "id": "ftj4YdSFEm9O",
        "colab": {
          "base_uri": "https://localhost:8080/"
        },
        "outputId": "d9f35b31-06b2-47b0-cf29-a7e9550faf08"
      },
      "execution_count": 3,
      "outputs": [
        {
          "output_type": "stream",
          "name": "stdout",
          "text": [
            "Archive:  All Midi Files.zip\n",
            "   creating: All Midi Files/albeniz/\n",
            "  inflating: All Midi Files/albeniz/alb_esp1.mid  \n",
            "  inflating: All Midi Files/albeniz/alb_esp2.mid  \n",
            "  inflating: All Midi Files/albeniz/alb_esp3.mid  \n",
            "  inflating: All Midi Files/albeniz/alb_esp4.mid  \n",
            "  inflating: All Midi Files/albeniz/alb_esp5.mid  \n",
            "  inflating: All Midi Files/albeniz/alb_esp6.mid  \n",
            "  inflating: All Midi Files/albeniz/alb_se1.mid  \n",
            "  inflating: All Midi Files/albeniz/alb_se2.mid  \n",
            "  inflating: All Midi Files/albeniz/alb_se3.mid  \n",
            "  inflating: All Midi Files/albeniz/alb_se4.mid  \n",
            "  inflating: All Midi Files/albeniz/alb_se5.mid  \n",
            "  inflating: All Midi Files/albeniz/alb_se6.mid  \n",
            "  inflating: All Midi Files/albeniz/alb_se7.mid  \n",
            "  inflating: All Midi Files/albeniz/alb_se8.mid  \n",
            "   creating: All Midi Files/bach/\n",
            "  inflating: All Midi Files/bach/bach_846.mid  \n",
            "  inflating: All Midi Files/bach/bach_847.mid  \n",
            "  inflating: All Midi Files/bach/bach_850.mid  \n",
            "   creating: All Midi Files/balakir/\n",
            "  inflating: All Midi Files/balakir/islamei.mid  \n",
            "   creating: All Midi Files/beeth/\n",
            "  inflating: All Midi Files/beeth/appass_1.mid  \n",
            "  inflating: All Midi Files/beeth/appass_2.mid  \n",
            "  inflating: All Midi Files/beeth/appass_3.mid  \n",
            "  inflating: All Midi Files/beeth/beethoven_hammerklavier_1.mid  \n",
            "  inflating: All Midi Files/beeth/beethoven_hammerklavier_2.mid  \n",
            "  inflating: All Midi Files/beeth/beethoven_hammerklavier_3.mid  \n",
            "  inflating: All Midi Files/beeth/beethoven_hammerklavier_4.mid  \n",
            "  inflating: All Midi Files/beeth/beethoven_les_adieux_1.mid  \n",
            "  inflating: All Midi Files/beeth/beethoven_les_adieux_2.mid  \n",
            "  inflating: All Midi Files/beeth/beethoven_les_adieux_3.mid  \n",
            "  inflating: All Midi Files/beeth/beethoven_opus10_1.mid  \n",
            "  inflating: All Midi Files/beeth/beethoven_opus10_2.mid  \n",
            "  inflating: All Midi Files/beeth/beethoven_opus10_3.mid  \n",
            "  inflating: All Midi Files/beeth/beethoven_opus22_1.mid  \n",
            "  inflating: All Midi Files/beeth/beethoven_opus22_2.mid  \n",
            "  inflating: All Midi Files/beeth/beethoven_opus22_3.mid  \n",
            "  inflating: All Midi Files/beeth/beethoven_opus22_4.mid  \n",
            "  inflating: All Midi Files/beeth/beethoven_opus90_1.mid  \n",
            "  inflating: All Midi Files/beeth/beethoven_opus90_2.mid  \n",
            "  inflating: All Midi Files/beeth/elise.mid  \n",
            "  inflating: All Midi Files/beeth/mond_1.mid  \n",
            "  inflating: All Midi Files/beeth/mond_2.mid  \n",
            "  inflating: All Midi Files/beeth/mond_3.mid  \n",
            "  inflating: All Midi Files/beeth/pathetique_1.mid  \n",
            "  inflating: All Midi Files/beeth/pathetique_2.mid  \n",
            "  inflating: All Midi Files/beeth/pathetique_3.mid  \n",
            "  inflating: All Midi Files/beeth/waldstein_1.mid  \n",
            "  inflating: All Midi Files/beeth/waldstein_2.mid  \n",
            "  inflating: All Midi Files/beeth/waldstein_3.mid  \n",
            "   creating: All Midi Files/borodin/\n",
            "  inflating: All Midi Files/borodin/bor_ps1.mid  \n",
            "  inflating: All Midi Files/borodin/bor_ps2.mid  \n",
            "  inflating: All Midi Files/borodin/bor_ps3.mid  \n",
            "  inflating: All Midi Files/borodin/bor_ps4.mid  \n",
            "  inflating: All Midi Files/borodin/bor_ps5.mid  \n",
            "  inflating: All Midi Files/borodin/bor_ps6.mid  \n",
            "  inflating: All Midi Files/borodin/bor_ps7.mid  \n",
            "   creating: All Midi Files/brahms/\n",
            "  inflating: All Midi Files/brahms/br_im2.mid  \n",
            "  inflating: All Midi Files/brahms/br_im5.mid  \n",
            "  inflating: All Midi Files/brahms/BR_IM6.MID  \n",
            "  inflating: All Midi Files/brahms/br_rhap.mid  \n",
            "  inflating: All Midi Files/brahms/brahms_opus1_1.mid  \n",
            "  inflating: All Midi Files/brahms/brahms_opus1_2.mid  \n",
            "  inflating: All Midi Files/brahms/brahms_opus1_3.mid  \n",
            "  inflating: All Midi Files/brahms/brahms_opus1_4.mid  \n",
            "  inflating: All Midi Files/brahms/brahms_opus117_1.mid  \n",
            "  inflating: All Midi Files/brahms/brahms_opus117_2.mid  \n",
            "   creating: All Midi Files/burgm/\n",
            "  inflating: All Midi Files/burgm/burg_agitato.mid  \n",
            "  inflating: All Midi Files/burgm/burg_erwachen.mid  \n",
            "  inflating: All Midi Files/burgm/burg_geschwindigkeit.mid  \n",
            "  inflating: All Midi Files/burgm/burg_gewitter.mid  \n",
            "  inflating: All Midi Files/burgm/burg_perlen.mid  \n",
            "  inflating: All Midi Files/burgm/burg_quelle.mid  \n",
            "  inflating: All Midi Files/burgm/burg_spinnerlied.mid  \n",
            "  inflating: All Midi Files/burgm/burg_sylphen.mid  \n",
            "  inflating: All Midi Files/burgm/burg_trennung.mid  \n",
            "   creating: All Midi Files/chopin/\n",
            "  inflating: All Midi Files/chopin/chp_op18.mid  \n",
            "  inflating: All Midi Files/chopin/chp_op31.mid  \n",
            "  inflating: All Midi Files/chopin/chpn_op10_e01.mid  \n",
            "  inflating: All Midi Files/chopin/chpn_op10_e05.mid  \n",
            "  inflating: All Midi Files/chopin/chpn_op10_e12.mid  \n",
            "  inflating: All Midi Files/chopin/chpn_op23.mid  \n",
            "  inflating: All Midi Files/chopin/chpn_op25_e1.mid  \n",
            "  inflating: All Midi Files/chopin/chpn_op25_e11.mid  \n",
            "  inflating: All Midi Files/chopin/chpn_op25_e12.mid  \n",
            "  inflating: All Midi Files/chopin/chpn_op25_e2.mid  \n",
            "  inflating: All Midi Files/chopin/chpn_op25_e3.mid  \n",
            "  inflating: All Midi Files/chopin/chpn_op25_e4.mid  \n",
            "  inflating: All Midi Files/chopin/chpn_op27_1.mid  \n",
            "  inflating: All Midi Files/chopin/chpn_op27_2.mid  \n",
            "  inflating: All Midi Files/chopin/chpn_op33_2.mid  \n",
            "  inflating: All Midi Files/chopin/chpn_op33_4.mid  \n",
            "  inflating: All Midi Files/chopin/chpn_op35_1.mid  \n",
            "  inflating: All Midi Files/chopin/chpn_op35_2.mid  \n",
            "  inflating: All Midi Files/chopin/chpn_op35_3.mid  \n",
            "  inflating: All Midi Files/chopin/chpn_op35_4.mid  \n",
            "  inflating: All Midi Files/chopin/chpn_op53.mid  \n",
            "  inflating: All Midi Files/chopin/chpn_op66.mid  \n",
            "  inflating: All Midi Files/chopin/chpn_op7_1.mid  \n",
            "  inflating: All Midi Files/chopin/chpn_op7_2.mid  \n",
            "  inflating: All Midi Files/chopin/chpn-p1.mid  \n",
            "  inflating: All Midi Files/chopin/chpn-p10.mid  \n",
            "  inflating: All Midi Files/chopin/chpn-p11.mid  \n",
            "  inflating: All Midi Files/chopin/chpn-p12.mid  \n",
            "  inflating: All Midi Files/chopin/chpn-p13.mid  \n",
            "  inflating: All Midi Files/chopin/chpn-p14.mid  \n",
            "  inflating: All Midi Files/chopin/chpn-p15.mid  \n",
            "  inflating: All Midi Files/chopin/chpn-p16.mid  \n",
            "  inflating: All Midi Files/chopin/chpn-p17.mid  \n",
            "  inflating: All Midi Files/chopin/chpn-p18.mid  \n",
            "  inflating: All Midi Files/chopin/chpn-p19.mid  \n",
            "  inflating: All Midi Files/chopin/chpn-p2.mid  \n",
            "  inflating: All Midi Files/chopin/chpn-p20.mid  \n",
            "  inflating: All Midi Files/chopin/chpn-p21.mid  \n",
            "  inflating: All Midi Files/chopin/chpn-p22.mid  \n",
            "  inflating: All Midi Files/chopin/chpn-p23.mid  \n",
            "  inflating: All Midi Files/chopin/chpn-p24.mid  \n",
            "  inflating: All Midi Files/chopin/chpn-p3.mid  \n",
            "  inflating: All Midi Files/chopin/chpn-p4.mid  \n",
            "  inflating: All Midi Files/chopin/chpn-p5.mid  \n",
            "  inflating: All Midi Files/chopin/chpn-p6.mid  \n",
            "  inflating: All Midi Files/chopin/chpn-p7.mid  \n",
            "  inflating: All Midi Files/chopin/chpn-p8.mid  \n",
            "  inflating: All Midi Files/chopin/chpn-p9.mid  \n",
            "   creating: All Midi Files/debussy/\n",
            "  inflating: All Midi Files/debussy/DEB_CLAI.MID  \n",
            "  inflating: All Midi Files/debussy/deb_menu.mid  \n",
            "  inflating: All Midi Files/debussy/DEB_PASS.MID  \n",
            "  inflating: All Midi Files/debussy/deb_prel.mid  \n",
            "  inflating: All Midi Files/debussy/debussy_cc_1.mid  \n",
            "  inflating: All Midi Files/debussy/debussy_cc_2.mid  \n",
            "  inflating: All Midi Files/debussy/debussy_cc_3.mid  \n",
            "  inflating: All Midi Files/debussy/debussy_cc_4.mid  \n",
            "  inflating: All Midi Files/debussy/debussy_cc_6.mid  \n",
            "   creating: All Midi Files/granados/\n",
            "  inflating: All Midi Files/granados/gra_esp_2.mid  \n",
            "  inflating: All Midi Files/granados/gra_esp_3.mid  \n",
            "  inflating: All Midi Files/granados/gra_esp_4.mid  \n",
            "   creating: All Midi Files/grieg/\n",
            "  inflating: All Midi Files/grieg/grieg_album.mid  \n",
            "  inflating: All Midi Files/grieg/grieg_berceuse.mid  \n",
            "  inflating: All Midi Files/grieg/grieg_brooklet.mid  \n",
            "  inflating: All Midi Files/grieg/grieg_butterfly.mid  \n",
            "  inflating: All Midi Files/grieg/grieg_elfentanz.mid  \n",
            "  inflating: All Midi Files/grieg/grieg_halling.mid  \n",
            "  inflating: All Midi Files/grieg/grieg_kobold.mid  \n",
            "  inflating: All Midi Files/grieg/grieg_march.mid  \n",
            "  inflating: All Midi Files/grieg/grieg_once_upon_a_time.mid  \n",
            "  inflating: All Midi Files/grieg/grieg_spring.mid  \n",
            "  inflating: All Midi Files/grieg/grieg_voeglein.mid  \n",
            "  inflating: All Midi Files/grieg/grieg_waechter.mid  \n",
            "  inflating: All Midi Files/grieg/grieg_walzer.mid  \n",
            "  inflating: All Midi Files/grieg/grieg_wanderer.mid  \n",
            "  inflating: All Midi Files/grieg/grieg_wedding.mid  \n",
            "  inflating: All Midi Files/grieg/grieg_zwerge.mid  \n",
            "   creating: All Midi Files/haydn/\n",
            "  inflating: All Midi Files/haydn/hay_40_1.mid  \n",
            "  inflating: All Midi Files/haydn/hay_40_2.mid  \n",
            "  inflating: All Midi Files/haydn/haydn_33_1.mid  \n",
            "  inflating: All Midi Files/haydn/haydn_33_2.mid  \n",
            "  inflating: All Midi Files/haydn/haydn_33_3.mid  \n",
            "  inflating: All Midi Files/haydn/haydn_35_1.mid  \n",
            "  inflating: All Midi Files/haydn/haydn_35_2.mid  \n",
            "  inflating: All Midi Files/haydn/haydn_35_3.mid  \n",
            "  inflating: All Midi Files/haydn/haydn_43_1.mid  \n",
            "  inflating: All Midi Files/haydn/haydn_43_2.mid  \n",
            "  inflating: All Midi Files/haydn/haydn_43_3.mid  \n",
            "  inflating: All Midi Files/haydn/haydn_7_1.mid  \n",
            "  inflating: All Midi Files/haydn/haydn_7_2.mid  \n",
            "  inflating: All Midi Files/haydn/haydn_7_3.mid  \n",
            "  inflating: All Midi Files/haydn/haydn_8_1.mid  \n",
            "  inflating: All Midi Files/haydn/haydn_8_2.mid  \n",
            "  inflating: All Midi Files/haydn/haydn_8_3.mid  \n",
            "  inflating: All Midi Files/haydn/haydn_8_4.mid  \n",
            "  inflating: All Midi Files/haydn/haydn_9_1.mid  \n",
            "  inflating: All Midi Files/haydn/haydn_9_2.mid  \n",
            "  inflating: All Midi Files/haydn/haydn_9_3.mid  \n",
            "   creating: All Midi Files/liszt/\n",
            "  inflating: All Midi Files/liszt/liz_donjuan.mid  \n",
            "  inflating: All Midi Files/liszt/liz_et_trans4.mid  \n",
            "  inflating: All Midi Files/liszt/liz_et_trans5.mid  \n",
            "  inflating: All Midi Files/liszt/liz_et_trans8.mid  \n",
            "  inflating: All Midi Files/liszt/liz_et1.mid  \n",
            "  inflating: All Midi Files/liszt/liz_et2.mid  \n",
            "  inflating: All Midi Files/liszt/liz_et3.mid  \n",
            "  inflating: All Midi Files/liszt/liz_et4.mid  \n",
            "  inflating: All Midi Files/liszt/liz_et5.mid  \n",
            "  inflating: All Midi Files/liszt/liz_et6.mid  \n",
            "  inflating: All Midi Files/liszt/liz_liebestraum.mid  \n",
            "  inflating: All Midi Files/liszt/liz_rhap02.mid  \n",
            "  inflating: All Midi Files/liszt/liz_rhap09.mid  \n",
            "  inflating: All Midi Files/liszt/liz_rhap10.mid  \n",
            "  inflating: All Midi Files/liszt/liz_rhap12.mid  \n",
            "  inflating: All Midi Files/liszt/liz_rhap15.mid  \n",
            "   creating: All Midi Files/mendelssohn/\n",
            "  inflating: All Midi Files/mendelssohn/mendel_op19_1.mid  \n",
            "  inflating: All Midi Files/mendelssohn/mendel_op19_2.mid  \n",
            "  inflating: All Midi Files/mendelssohn/mendel_op19_3.mid  \n",
            "  inflating: All Midi Files/mendelssohn/mendel_op19_4.mid  \n",
            "  inflating: All Midi Files/mendelssohn/mendel_op19_5.mid  \n",
            "  inflating: All Midi Files/mendelssohn/mendel_op19_6.mid  \n",
            "  inflating: All Midi Files/mendelssohn/mendel_op30_1.mid  \n",
            "  inflating: All Midi Files/mendelssohn/mendel_op30_2.mid  \n",
            "  inflating: All Midi Files/mendelssohn/mendel_op30_3.mid  \n",
            "  inflating: All Midi Files/mendelssohn/mendel_op30_4.mid  \n",
            "  inflating: All Midi Files/mendelssohn/mendel_op30_5.mid  \n",
            "  inflating: All Midi Files/mendelssohn/mendel_op53_5.mid  \n",
            "  inflating: All Midi Files/mendelssohn/mendel_op62_3.mid  \n",
            "  inflating: All Midi Files/mendelssohn/mendel_op62_4.mid  \n",
            "  inflating: All Midi Files/mendelssohn/mendel_op62_5.mid  \n",
            "   creating: All Midi Files/mozart/\n",
            "  inflating: All Midi Files/mozart/mz_311_1.mid  \n",
            "  inflating: All Midi Files/mozart/mz_311_2.mid  \n",
            "  inflating: All Midi Files/mozart/mz_311_3.mid  \n",
            "  inflating: All Midi Files/mozart/mz_330_1.mid  \n",
            "  inflating: All Midi Files/mozart/mz_330_2.mid  \n",
            "  inflating: All Midi Files/mozart/mz_330_3.mid  \n",
            "  inflating: All Midi Files/mozart/mz_331_1.mid  \n",
            "  inflating: All Midi Files/mozart/mz_331_2.mid  \n",
            "  inflating: All Midi Files/mozart/mz_331_3.mid  \n",
            "  inflating: All Midi Files/mozart/mz_332_1.mid  \n",
            "  inflating: All Midi Files/mozart/mz_332_2.mid  \n",
            "  inflating: All Midi Files/mozart/mz_332_3.mid  \n",
            "  inflating: All Midi Files/mozart/mz_333_1.mid  \n",
            "  inflating: All Midi Files/mozart/mz_333_2.mid  \n",
            "  inflating: All Midi Files/mozart/mz_333_3.mid  \n",
            "  inflating: All Midi Files/mozart/mz_545_1.mid  \n",
            "  inflating: All Midi Files/mozart/mz_545_2.mid  \n",
            "  inflating: All Midi Files/mozart/mz_545_3.mid  \n",
            "  inflating: All Midi Files/mozart/mz_570_1.mid  \n",
            "  inflating: All Midi Files/mozart/mz_570_2.mid  \n",
            "  inflating: All Midi Files/mozart/mz_570_3.mid  \n",
            "   creating: All Midi Files/muss/\n",
            "  inflating: All Midi Files/muss/muss_1.mid  \n",
            "  inflating: All Midi Files/muss/muss_2.mid  \n",
            "  inflating: All Midi Files/muss/muss_3.mid  \n",
            "  inflating: All Midi Files/muss/muss_4.mid  \n",
            "  inflating: All Midi Files/muss/muss_5.mid  \n",
            "  inflating: All Midi Files/muss/muss_6.mid  \n",
            "  inflating: All Midi Files/muss/muss_7.mid  \n",
            "  inflating: All Midi Files/muss/muss_8.mid  \n",
            "   creating: All Midi Files/schubert/\n",
            "  inflating: All Midi Files/schubert/schu_143_1.mid  \n",
            "  inflating: All Midi Files/schubert/schu_143_2.mid  \n",
            "  inflating: All Midi Files/schubert/schu_143_3.mid  \n",
            "  inflating: All Midi Files/schubert/schub_d760_1.mid  \n",
            "  inflating: All Midi Files/schubert/schub_d760_2.mid  \n",
            "  inflating: All Midi Files/schubert/schub_d760_3.mid  \n",
            "  inflating: All Midi Files/schubert/schub_d760_4.mid  \n",
            "  inflating: All Midi Files/schubert/schub_d960_1.mid  \n",
            "  inflating: All Midi Files/schubert/schub_d960_2.mid  \n",
            "  inflating: All Midi Files/schubert/schub_d960_3.mid  \n",
            "  inflating: All Midi Files/schubert/schub_d960_4.mid  \n",
            "  inflating: All Midi Files/schubert/schubert_D850_1.mid  \n",
            "  inflating: All Midi Files/schubert/schubert_D850_2.mid  \n",
            "  inflating: All Midi Files/schubert/schubert_D850_3.mid  \n",
            "  inflating: All Midi Files/schubert/schubert_D850_4.mid  \n",
            "  inflating: All Midi Files/schubert/schubert_D935_1.mid  \n",
            "  inflating: All Midi Files/schubert/schubert_D935_2.mid  \n",
            "  inflating: All Midi Files/schubert/schubert_D935_3.mid  \n",
            "  inflating: All Midi Files/schubert/schubert_D935_4.mid  \n",
            "  inflating: All Midi Files/schubert/schuim-1.mid  \n",
            "  inflating: All Midi Files/schubert/schuim-2.mid  \n",
            "  inflating: All Midi Files/schubert/schuim-3.mid  \n",
            "  inflating: All Midi Files/schubert/schuim-4.mid  \n",
            "  inflating: All Midi Files/schubert/schumm-1.mid  \n",
            "  inflating: All Midi Files/schubert/schumm-2.mid  \n",
            "  inflating: All Midi Files/schubert/schumm-3.mid  \n",
            "  inflating: All Midi Files/schubert/schumm-4.mid  \n",
            "  inflating: All Midi Files/schubert/schumm-5.mid  \n",
            "  inflating: All Midi Files/schubert/schumm-6.mid  \n",
            "   creating: All Midi Files/schumann/\n",
            "  inflating: All Midi Files/schumann/schum_abegg.mid  \n",
            "  inflating: All Midi Files/schumann/scn15_1.mid  \n",
            "  inflating: All Midi Files/schumann/scn15_10.mid  \n",
            "  inflating: All Midi Files/schumann/scn15_11.mid  \n",
            "  inflating: All Midi Files/schumann/scn15_12.mid  \n",
            "  inflating: All Midi Files/schumann/scn15_13.mid  \n",
            "  inflating: All Midi Files/schumann/scn15_2.mid  \n",
            "  inflating: All Midi Files/schumann/scn15_3.mid  \n",
            "  inflating: All Midi Files/schumann/scn15_4.mid  \n",
            "  inflating: All Midi Files/schumann/scn15_5.mid  \n",
            "  inflating: All Midi Files/schumann/scn15_6.mid  \n",
            "  inflating: All Midi Files/schumann/scn15_7.mid  \n",
            "  inflating: All Midi Files/schumann/scn15_8.mid  \n",
            "  inflating: All Midi Files/schumann/scn15_9.mid  \n",
            "  inflating: All Midi Files/schumann/scn16_1.mid  \n",
            "  inflating: All Midi Files/schumann/scn16_2.mid  \n",
            "  inflating: All Midi Files/schumann/scn16_3.mid  \n",
            "  inflating: All Midi Files/schumann/scn16_4.mid  \n",
            "  inflating: All Midi Files/schumann/scn16_5.mid  \n",
            "  inflating: All Midi Files/schumann/scn16_6.mid  \n",
            "  inflating: All Midi Files/schumann/scn16_7.mid  \n",
            "  inflating: All Midi Files/schumann/scn16_8.mid  \n",
            "  inflating: All Midi Files/schumann/scn68_10.mid  \n",
            "  inflating: All Midi Files/schumann/scn68_12.mid  \n",
            "   creating: All Midi Files/tschai/\n",
            "  inflating: All Midi Files/tschai/ty_april.mid  \n",
            "  inflating: All Midi Files/tschai/ty_august.mid  \n",
            "  inflating: All Midi Files/tschai/ty_dezember.mid  \n",
            "  inflating: All Midi Files/tschai/ty_februar.mid  \n",
            "  inflating: All Midi Files/tschai/ty_januar.mid  \n",
            "  inflating: All Midi Files/tschai/ty_juli.mid  \n",
            "  inflating: All Midi Files/tschai/ty_juni.mid  \n",
            "  inflating: All Midi Files/tschai/ty_maerz.mid  \n",
            "  inflating: All Midi Files/tschai/ty_mai.mid  \n",
            "  inflating: All Midi Files/tschai/ty_november.mid  \n",
            "  inflating: All Midi Files/tschai/ty_oktober.mid  \n",
            "  inflating: All Midi Files/tschai/ty_september.mid  \n"
          ]
        }
      ]
    },
    {
      "cell_type": "markdown",
      "source": [
        "# Importing"
      ],
      "metadata": {
        "id": "uH0-xf4rBrlg"
      }
    },
    {
      "cell_type": "code",
      "execution_count": 4,
      "metadata": {
        "id": "N_Yu4Zp6AiFz"
      },
      "outputs": [],
      "source": [
        "from music21 import *\n",
        "import glob\n",
        "from tqdm import tqdm\n",
        "import numpy as np\n",
        "import random\n",
        "import tensorflow as tf\n",
        "from tensorflow.keras.layers import LSTM,Dense,Input,Dropout\n",
        "from tensorflow.keras.models import Sequential,Model,load_model \n",
        "from sklearn.model_selection import train_test_split"
      ]
    },
    {
      "cell_type": "code",
      "source": [
        "import torch\n",
        "import torch.nn as nn\n",
        "import torch.optim as optim\n",
        "import os"
      ],
      "metadata": {
        "id": "uhGmepG1Avxe"
      },
      "execution_count": 5,
      "outputs": []
    },
    {
      "cell_type": "markdown",
      "source": [
        "# Data Preparation"
      ],
      "metadata": {
        "id": "k1p4DHf3CHQ4"
      }
    },
    {
      "cell_type": "code",
      "source": [
        "def read_files(file):\n",
        "    notes=[]\n",
        "    notes_to_parse=None\n",
        "    #parse the midi file\n",
        "    midi=converter.parse(file)\n",
        "    #seperate all instruments from the file\n",
        "    instrmt=instrument.partitionByInstrument(midi)\n",
        "    for part in instrmt.parts:\n",
        "        #fetch data only of Piano instrument\n",
        "        if 'Piano' in str(part):\n",
        "            notes_to_parse=part.recurse()\n",
        "            for element in notes_to_parse:\n",
        "                if type(element)==note.Note:\n",
        "                    notes.append(str(element.pitch))\n",
        "                elif type(element)==chord.Chord:\n",
        "                    notes.append('.'.join(str(n) for n in element.normalOrder))\n",
        "    return notes\n",
        "#retrieve paths recursively from inside the directories/files\n",
        "file_path=['schumann'] \n",
        "all_files=glob.glob('/content/All Midi Files/'+ file_path[0]+'/*.mid',recursive=True)\n",
        "notes_array = np.array([read_files(i) for i in tqdm(all_files,position=0,leave=True)])"
      ],
      "metadata": {
        "id": "Zh27WPzUCJJL",
        "colab": {
          "base_uri": "https://localhost:8080/"
        },
        "outputId": "6734e927-f621-4832-cc2d-86fe4ab7133c"
      },
      "execution_count": 6,
      "outputs": [
        {
          "output_type": "stream",
          "name": "stderr",
          "text": [
            "100%|██████████| 24/24 [00:52<00:00,  2.17s/it]\n",
            "/usr/local/lib/python3.7/dist-packages/ipykernel_launcher.py:21: VisibleDeprecationWarning: Creating an ndarray from ragged nested sequences (which is a list-or-tuple of lists-or-tuples-or ndarrays with different lengths or shapes) is deprecated. If you meant to do this, you must specify 'dtype=object' when creating the ndarray.\n"
          ]
        }
      ]
    },
    {
      "cell_type": "code",
      "source": [
        "#unique notes\n",
        "notess = sum(notes_array,[]) \n",
        "unique_notes = list(set(notess))\n",
        "print(\"Unique Notes:\",len(unique_notes))\n",
        "\n",
        "#notes with their frequency\n",
        "freq=dict(map(lambda x: (x,notess.count(x)),unique_notes))\n",
        "\n",
        "#get the threshold frequency\n",
        "print(\"\\nFrequency notes\")\n",
        "for i in range(30,100,20):\n",
        "  print(i,\":\",len(list(filter(lambda x:x[1]>=i,freq.items()))))\n",
        "\n",
        "#filter notes greater than threshold i.e. 50\n",
        "freq_notes=dict(filter(lambda x:x[1]>=50,freq.items()))\n",
        "\n",
        "#create new notes using the frequent notes\n",
        "new_notes=[[i for i in j if i in freq_notes] for j in notes_array]\n",
        "\n",
        "#dictionary having key as note index and value as note\n",
        "ind2note=dict(enumerate(freq_notes))\n",
        "\n",
        "#dictionary having key as note and value as note index\n",
        "note2ind=dict(map(reversed,ind2note.items()))"
      ],
      "metadata": {
        "colab": {
          "base_uri": "https://localhost:8080/"
        },
        "id": "7O8dQvr9CJ57",
        "outputId": "ffb5c11c-3c83-4c48-f41e-ddd7305f5183"
      },
      "execution_count": 7,
      "outputs": [
        {
          "output_type": "stream",
          "name": "stdout",
          "text": [
            "Unique Notes: 218\n",
            "\n",
            "Frequency notes\n",
            "30 : 111\n",
            "50 : 87\n",
            "70 : 70\n",
            "90 : 65\n"
          ]
        }
      ]
    },
    {
      "cell_type": "code",
      "source": [
        "timesteps=50\n",
        "\n",
        "#store values of input and output\n",
        "x=[] ; y=[]\n",
        "\n",
        "for i in new_notes:\n",
        "  for j in range(0,len(i)-timesteps):\n",
        "    #input will be the current index + timestep\n",
        "    #output will be the next index after timestep\n",
        "    inp=i[j:j+timesteps] ; out=i[j+timesteps]\n",
        "\n",
        "    #append the index value of respective notes \n",
        "    x.append(list(map(lambda x:note2ind[x],inp)))\n",
        "    y.append(note2ind[out])\n",
        "\n",
        "x_new=np.array(x) \n",
        "y_new=np.array(y)"
      ],
      "metadata": {
        "id": "ba2dmtZwCM8T"
      },
      "execution_count": 8,
      "outputs": []
    },
    {
      "cell_type": "code",
      "source": [
        "#reshape input and output for the model\n",
        "x_new = np.reshape(x_new,(len(x_new),timesteps,1))\n",
        "y_new = np.reshape(y_new,(-1,1))\n",
        "\n",
        "#split the input and value into training and testing sets\n",
        "#80% for training and 20% for testing sets\n",
        "x_train,x_test,y_train,y_test = train_test_split(x_new,y_new,test_size=0.2,random_state=42)"
      ],
      "metadata": {
        "id": "TNPfGwdFCbzM"
      },
      "execution_count": 9,
      "outputs": []
    },
    {
      "cell_type": "markdown",
      "source": [
        "# Model Buiding"
      ],
      "metadata": {
        "id": "Y_XkwC8A_SAQ"
      }
    },
    {
      "cell_type": "code",
      "source": [
        "print(\"Num GPUs Available: \", len(tf.config.experimental.list_physical_devices('GPU')))"
      ],
      "metadata": {
        "colab": {
          "base_uri": "https://localhost:8080/"
        },
        "id": "eml2mPw3C4L6",
        "outputId": "54d4bc73-756b-407c-ae48-391f765bd4b4"
      },
      "execution_count": 10,
      "outputs": [
        {
          "output_type": "stream",
          "name": "stdout",
          "text": [
            "Num GPUs Available:  1\n"
          ]
        }
      ]
    },
    {
      "cell_type": "code",
      "source": [
        "config = tf.compat.v1.ConfigProto()\n",
        "config.gpu_options.allow_growth=True\n",
        "sess = tf.compat.v1.Session(config=config)"
      ],
      "metadata": {
        "id": "mKi1Cs3hFS63"
      },
      "execution_count": 11,
      "outputs": []
    },
    {
      "cell_type": "code",
      "source": [
        "#create the model\n",
        "model = Sequential()\n",
        "#create two stacked LSTM layer with the latent dimension of 256\n",
        "model.add(LSTM(256,return_sequences=True,input_shape=(x_new.shape[1],x_new.shape[2])))\n",
        "model.add(Dropout(0.2))\n",
        "model.add(LSTM(256))\n",
        "model.add(Dropout(0.2))\n",
        "model.add(Dense(256,activation='relu'))\n",
        "\n",
        "#fully connected layer for the output with softmax activation\n",
        "model.add(Dense(len(note2ind),activation='softmax'))\n",
        "model.summary()"
      ],
      "metadata": {
        "colab": {
          "base_uri": "https://localhost:8080/"
        },
        "id": "7nYzb6TyF4rt",
        "outputId": "935c055f-52e0-40bc-d6ba-1a7c0250b3af"
      },
      "execution_count": 12,
      "outputs": [
        {
          "output_type": "stream",
          "name": "stdout",
          "text": [
            "Model: \"sequential\"\n",
            "_________________________________________________________________\n",
            " Layer (type)                Output Shape              Param #   \n",
            "=================================================================\n",
            " lstm (LSTM)                 (None, 50, 256)           264192    \n",
            "                                                                 \n",
            " dropout (Dropout)           (None, 50, 256)           0         \n",
            "                                                                 \n",
            " lstm_1 (LSTM)               (None, 256)               525312    \n",
            "                                                                 \n",
            " dropout_1 (Dropout)         (None, 256)               0         \n",
            "                                                                 \n",
            " dense (Dense)               (None, 256)               65792     \n",
            "                                                                 \n",
            " dense_1 (Dense)             (None, 87)                22359     \n",
            "                                                                 \n",
            "=================================================================\n",
            "Total params: 877,655\n",
            "Trainable params: 877,655\n",
            "Non-trainable params: 0\n",
            "_________________________________________________________________\n"
          ]
        }
      ]
    },
    {
      "cell_type": "code",
      "source": [
        "#compile the model using Adam optimizer\n",
        "model.compile(loss='sparse_categorical_crossentropy', optimizer='adam',metrics=['accuracy'])\n",
        "\n",
        "#train the model on training sets and validate on testing sets\n",
        "with tf.device('/gpu:0'):\n",
        "    model.fit(\n",
        "        x_train,y_train,\n",
        "        batch_size=128,epochs=80, \n",
        "        validation_data=(x_test,y_test))"
      ],
      "metadata": {
        "colab": {
          "base_uri": "https://localhost:8080/"
        },
        "id": "YvUjxXX9HFIG",
        "outputId": "7c954f55-bd5b-478e-e1dd-2d1e103fa338"
      },
      "execution_count": 13,
      "outputs": [
        {
          "output_type": "stream",
          "name": "stdout",
          "text": [
            "Epoch 1/80\n",
            "117/117 [==============================] - 11s 25ms/step - loss: 4.1517 - accuracy: 0.0411 - val_loss: 4.0942 - val_accuracy: 0.0415\n",
            "Epoch 2/80\n",
            "117/117 [==============================] - 2s 17ms/step - loss: 4.0954 - accuracy: 0.0439 - val_loss: 4.0543 - val_accuracy: 0.0458\n",
            "Epoch 3/80\n",
            "117/117 [==============================] - 2s 18ms/step - loss: 4.0404 - accuracy: 0.0480 - val_loss: 3.9994 - val_accuracy: 0.0490\n",
            "Epoch 4/80\n",
            "117/117 [==============================] - 2s 18ms/step - loss: 3.9805 - accuracy: 0.0558 - val_loss: 3.9306 - val_accuracy: 0.0589\n",
            "Epoch 5/80\n",
            "117/117 [==============================] - 2s 19ms/step - loss: 3.9100 - accuracy: 0.0672 - val_loss: 3.8794 - val_accuracy: 0.0720\n",
            "Epoch 6/80\n",
            "117/117 [==============================] - 2s 19ms/step - loss: 3.8448 - accuracy: 0.0723 - val_loss: 3.8303 - val_accuracy: 0.0733\n",
            "Epoch 7/80\n",
            "117/117 [==============================] - 2s 18ms/step - loss: 3.7680 - accuracy: 0.0867 - val_loss: 3.7834 - val_accuracy: 0.0830\n",
            "Epoch 8/80\n",
            "117/117 [==============================] - 2s 18ms/step - loss: 3.6799 - accuracy: 0.0952 - val_loss: 3.7029 - val_accuracy: 0.0915\n",
            "Epoch 9/80\n",
            "117/117 [==============================] - 2s 18ms/step - loss: 3.5671 - accuracy: 0.1144 - val_loss: 3.6270 - val_accuracy: 0.1046\n",
            "Epoch 10/80\n",
            "117/117 [==============================] - 2s 18ms/step - loss: 3.4505 - accuracy: 0.1358 - val_loss: 3.5650 - val_accuracy: 0.1172\n",
            "Epoch 11/80\n",
            "117/117 [==============================] - 2s 18ms/step - loss: 3.3092 - accuracy: 0.1626 - val_loss: 3.4902 - val_accuracy: 0.1343\n",
            "Epoch 12/80\n",
            "117/117 [==============================] - 2s 18ms/step - loss: 3.1571 - accuracy: 0.1863 - val_loss: 3.4200 - val_accuracy: 0.1563\n",
            "Epoch 13/80\n",
            "117/117 [==============================] - 2s 18ms/step - loss: 3.0165 - accuracy: 0.2153 - val_loss: 3.3770 - val_accuracy: 0.1600\n",
            "Epoch 14/80\n",
            "117/117 [==============================] - 2s 19ms/step - loss: 2.8499 - accuracy: 0.2498 - val_loss: 3.2946 - val_accuracy: 0.1796\n",
            "Epoch 15/80\n",
            "117/117 [==============================] - 2s 19ms/step - loss: 2.6939 - accuracy: 0.2861 - val_loss: 3.2238 - val_accuracy: 0.2087\n",
            "Epoch 16/80\n",
            "117/117 [==============================] - 2s 19ms/step - loss: 2.5398 - accuracy: 0.3180 - val_loss: 3.1391 - val_accuracy: 0.2242\n",
            "Epoch 17/80\n",
            "117/117 [==============================] - 2s 18ms/step - loss: 2.3882 - accuracy: 0.3565 - val_loss: 3.1152 - val_accuracy: 0.2366\n",
            "Epoch 18/80\n",
            "117/117 [==============================] - 2s 18ms/step - loss: 2.2528 - accuracy: 0.3881 - val_loss: 3.0654 - val_accuracy: 0.2572\n",
            "Epoch 19/80\n",
            "117/117 [==============================] - 2s 18ms/step - loss: 2.1014 - accuracy: 0.4239 - val_loss: 2.9953 - val_accuracy: 0.2845\n",
            "Epoch 20/80\n",
            "117/117 [==============================] - 2s 18ms/step - loss: 1.9663 - accuracy: 0.4557 - val_loss: 2.9613 - val_accuracy: 0.2986\n",
            "Epoch 21/80\n",
            "117/117 [==============================] - 2s 18ms/step - loss: 1.8386 - accuracy: 0.4894 - val_loss: 2.9247 - val_accuracy: 0.3238\n",
            "Epoch 22/80\n",
            "117/117 [==============================] - 2s 18ms/step - loss: 1.7183 - accuracy: 0.5255 - val_loss: 2.9233 - val_accuracy: 0.3305\n",
            "Epoch 23/80\n",
            "117/117 [==============================] - 2s 18ms/step - loss: 1.6210 - accuracy: 0.5450 - val_loss: 2.8755 - val_accuracy: 0.3524\n",
            "Epoch 24/80\n",
            "117/117 [==============================] - 2s 18ms/step - loss: 1.4877 - accuracy: 0.5836 - val_loss: 2.8869 - val_accuracy: 0.3720\n",
            "Epoch 25/80\n",
            "117/117 [==============================] - 2s 18ms/step - loss: 1.4127 - accuracy: 0.5989 - val_loss: 2.8849 - val_accuracy: 0.3800\n",
            "Epoch 26/80\n",
            "117/117 [==============================] - 2s 19ms/step - loss: 1.3314 - accuracy: 0.6168 - val_loss: 2.8544 - val_accuracy: 0.3958\n",
            "Epoch 27/80\n",
            "117/117 [==============================] - 2s 19ms/step - loss: 1.2438 - accuracy: 0.6421 - val_loss: 2.8669 - val_accuracy: 0.4086\n",
            "Epoch 28/80\n",
            "117/117 [==============================] - 2s 18ms/step - loss: 1.1681 - accuracy: 0.6631 - val_loss: 2.8651 - val_accuracy: 0.4180\n",
            "Epoch 29/80\n",
            "117/117 [==============================] - 2s 18ms/step - loss: 1.0888 - accuracy: 0.6862 - val_loss: 2.8938 - val_accuracy: 0.4290\n",
            "Epoch 30/80\n",
            "117/117 [==============================] - 2s 18ms/step - loss: 1.0333 - accuracy: 0.6981 - val_loss: 2.8828 - val_accuracy: 0.4386\n",
            "Epoch 31/80\n",
            "117/117 [==============================] - 2s 18ms/step - loss: 0.9540 - accuracy: 0.7225 - val_loss: 2.8936 - val_accuracy: 0.4472\n",
            "Epoch 32/80\n",
            "117/117 [==============================] - 2s 18ms/step - loss: 0.9066 - accuracy: 0.7317 - val_loss: 2.9068 - val_accuracy: 0.4562\n",
            "Epoch 33/80\n",
            "117/117 [==============================] - 2s 19ms/step - loss: 0.8561 - accuracy: 0.7507 - val_loss: 2.9131 - val_accuracy: 0.4579\n",
            "Epoch 34/80\n",
            "117/117 [==============================] - 2s 19ms/step - loss: 0.8187 - accuracy: 0.7572 - val_loss: 2.9382 - val_accuracy: 0.4720\n",
            "Epoch 35/80\n",
            "117/117 [==============================] - 2s 19ms/step - loss: 0.7625 - accuracy: 0.7726 - val_loss: 2.9713 - val_accuracy: 0.4686\n",
            "Epoch 36/80\n",
            "117/117 [==============================] - 2s 19ms/step - loss: 0.7151 - accuracy: 0.7861 - val_loss: 2.9987 - val_accuracy: 0.4769\n",
            "Epoch 37/80\n",
            "117/117 [==============================] - 2s 19ms/step - loss: 0.6860 - accuracy: 0.7940 - val_loss: 3.0124 - val_accuracy: 0.4849\n",
            "Epoch 38/80\n",
            "117/117 [==============================] - 2s 19ms/step - loss: 0.6486 - accuracy: 0.8055 - val_loss: 2.9898 - val_accuracy: 0.4999\n",
            "Epoch 39/80\n",
            "117/117 [==============================] - 2s 19ms/step - loss: 0.6200 - accuracy: 0.8127 - val_loss: 3.0118 - val_accuracy: 0.4918\n",
            "Epoch 40/80\n",
            "117/117 [==============================] - 2s 19ms/step - loss: 0.5805 - accuracy: 0.8233 - val_loss: 3.0565 - val_accuracy: 0.4975\n",
            "Epoch 41/80\n",
            "117/117 [==============================] - 2s 20ms/step - loss: 0.5460 - accuracy: 0.8300 - val_loss: 3.0842 - val_accuracy: 0.4977\n",
            "Epoch 42/80\n",
            "117/117 [==============================] - 2s 19ms/step - loss: 0.5165 - accuracy: 0.8414 - val_loss: 3.1025 - val_accuracy: 0.5108\n",
            "Epoch 43/80\n",
            "117/117 [==============================] - 2s 19ms/step - loss: 0.4954 - accuracy: 0.8479 - val_loss: 3.1484 - val_accuracy: 0.5103\n",
            "Epoch 44/80\n",
            "117/117 [==============================] - 2s 19ms/step - loss: 0.4902 - accuracy: 0.8506 - val_loss: 3.1392 - val_accuracy: 0.5157\n",
            "Epoch 45/80\n",
            "117/117 [==============================] - 2s 19ms/step - loss: 0.4692 - accuracy: 0.8585 - val_loss: 3.1861 - val_accuracy: 0.5151\n",
            "Epoch 46/80\n",
            "117/117 [==============================] - 2s 19ms/step - loss: 0.4479 - accuracy: 0.8646 - val_loss: 3.2300 - val_accuracy: 0.5234\n",
            "Epoch 47/80\n",
            "117/117 [==============================] - 2s 19ms/step - loss: 0.4393 - accuracy: 0.8627 - val_loss: 3.2222 - val_accuracy: 0.5183\n",
            "Epoch 48/80\n",
            "117/117 [==============================] - 2s 19ms/step - loss: 0.4171 - accuracy: 0.8686 - val_loss: 3.2706 - val_accuracy: 0.5181\n",
            "Epoch 49/80\n",
            "117/117 [==============================] - 2s 19ms/step - loss: 0.4138 - accuracy: 0.8713 - val_loss: 3.3009 - val_accuracy: 0.5205\n",
            "Epoch 50/80\n",
            "117/117 [==============================] - 2s 19ms/step - loss: 0.4011 - accuracy: 0.8752 - val_loss: 3.2739 - val_accuracy: 0.5290\n",
            "Epoch 51/80\n",
            "117/117 [==============================] - 2s 19ms/step - loss: 0.3674 - accuracy: 0.8889 - val_loss: 3.3351 - val_accuracy: 0.5221\n",
            "Epoch 52/80\n",
            "117/117 [==============================] - 2s 19ms/step - loss: 0.3583 - accuracy: 0.8905 - val_loss: 3.3520 - val_accuracy: 0.5304\n",
            "Epoch 53/80\n",
            "117/117 [==============================] - 2s 19ms/step - loss: 0.3380 - accuracy: 0.8966 - val_loss: 3.3401 - val_accuracy: 0.5355\n",
            "Epoch 54/80\n",
            "117/117 [==============================] - 2s 19ms/step - loss: 0.3351 - accuracy: 0.8980 - val_loss: 3.4028 - val_accuracy: 0.5306\n",
            "Epoch 55/80\n",
            "117/117 [==============================] - 2s 19ms/step - loss: 0.3157 - accuracy: 0.9052 - val_loss: 3.4262 - val_accuracy: 0.5274\n",
            "Epoch 56/80\n",
            "117/117 [==============================] - 2s 19ms/step - loss: 0.3125 - accuracy: 0.9045 - val_loss: 3.4405 - val_accuracy: 0.5363\n",
            "Epoch 57/80\n",
            "117/117 [==============================] - 2s 19ms/step - loss: 0.3084 - accuracy: 0.9030 - val_loss: 3.4515 - val_accuracy: 0.5314\n",
            "Epoch 58/80\n",
            "117/117 [==============================] - 2s 19ms/step - loss: 0.2969 - accuracy: 0.9057 - val_loss: 3.4910 - val_accuracy: 0.5355\n",
            "Epoch 59/80\n",
            "117/117 [==============================] - 2s 19ms/step - loss: 0.2912 - accuracy: 0.9108 - val_loss: 3.5018 - val_accuracy: 0.5360\n",
            "Epoch 60/80\n",
            "117/117 [==============================] - 2s 19ms/step - loss: 0.2937 - accuracy: 0.9103 - val_loss: 3.5323 - val_accuracy: 0.5328\n",
            "Epoch 61/80\n",
            "117/117 [==============================] - 2s 19ms/step - loss: 0.2743 - accuracy: 0.9168 - val_loss: 3.5532 - val_accuracy: 0.5312\n",
            "Epoch 62/80\n",
            "117/117 [==============================] - 2s 19ms/step - loss: 0.2822 - accuracy: 0.9131 - val_loss: 3.5575 - val_accuracy: 0.5328\n",
            "Epoch 63/80\n",
            "117/117 [==============================] - 2s 19ms/step - loss: 0.2683 - accuracy: 0.9156 - val_loss: 3.5949 - val_accuracy: 0.5381\n",
            "Epoch 64/80\n",
            "117/117 [==============================] - 2s 19ms/step - loss: 0.2689 - accuracy: 0.9173 - val_loss: 3.6331 - val_accuracy: 0.5328\n",
            "Epoch 65/80\n",
            "117/117 [==============================] - 2s 19ms/step - loss: 0.2654 - accuracy: 0.9176 - val_loss: 3.6395 - val_accuracy: 0.5384\n",
            "Epoch 66/80\n",
            "117/117 [==============================] - 2s 19ms/step - loss: 0.2543 - accuracy: 0.9219 - val_loss: 3.7025 - val_accuracy: 0.5368\n",
            "Epoch 67/80\n",
            "117/117 [==============================] - 2s 19ms/step - loss: 0.2430 - accuracy: 0.9255 - val_loss: 3.6610 - val_accuracy: 0.5349\n",
            "Epoch 68/80\n",
            "117/117 [==============================] - 2s 19ms/step - loss: 0.2368 - accuracy: 0.9257 - val_loss: 3.7035 - val_accuracy: 0.5320\n",
            "Epoch 69/80\n",
            "117/117 [==============================] - 2s 19ms/step - loss: 0.2485 - accuracy: 0.9227 - val_loss: 3.7134 - val_accuracy: 0.5373\n",
            "Epoch 70/80\n",
            "117/117 [==============================] - 2s 19ms/step - loss: 0.2250 - accuracy: 0.9299 - val_loss: 3.7238 - val_accuracy: 0.5371\n",
            "Epoch 71/80\n",
            "117/117 [==============================] - 2s 19ms/step - loss: 0.2263 - accuracy: 0.9296 - val_loss: 3.7616 - val_accuracy: 0.5368\n",
            "Epoch 72/80\n",
            "117/117 [==============================] - 2s 19ms/step - loss: 0.2279 - accuracy: 0.9303 - val_loss: 3.7517 - val_accuracy: 0.5408\n",
            "Epoch 73/80\n",
            "117/117 [==============================] - 2s 19ms/step - loss: 0.2290 - accuracy: 0.9291 - val_loss: 3.7464 - val_accuracy: 0.5349\n",
            "Epoch 74/80\n",
            "117/117 [==============================] - 2s 19ms/step - loss: 0.2163 - accuracy: 0.9325 - val_loss: 3.7746 - val_accuracy: 0.5384\n",
            "Epoch 75/80\n",
            "117/117 [==============================] - 2s 19ms/step - loss: 0.2205 - accuracy: 0.9300 - val_loss: 3.8289 - val_accuracy: 0.5371\n",
            "Epoch 76/80\n",
            "117/117 [==============================] - 2s 19ms/step - loss: 0.2134 - accuracy: 0.9327 - val_loss: 3.7886 - val_accuracy: 0.5403\n",
            "Epoch 77/80\n",
            "117/117 [==============================] - 2s 19ms/step - loss: 0.2111 - accuracy: 0.9354 - val_loss: 3.7967 - val_accuracy: 0.5400\n",
            "Epoch 78/80\n",
            "117/117 [==============================] - 2s 19ms/step - loss: 0.2091 - accuracy: 0.9340 - val_loss: 3.8773 - val_accuracy: 0.5392\n",
            "Epoch 79/80\n",
            "117/117 [==============================] - 2s 19ms/step - loss: 0.1977 - accuracy: 0.9383 - val_loss: 3.8711 - val_accuracy: 0.5448\n",
            "Epoch 80/80\n",
            "117/117 [==============================] - 2s 19ms/step - loss: 0.2147 - accuracy: 0.9334 - val_loss: 3.8979 - val_accuracy: 0.5454\n"
          ]
        }
      ]
    },
    {
      "cell_type": "code",
      "source": [
        "model.save(\"MOD\")"
      ],
      "metadata": {
        "colab": {
          "base_uri": "https://localhost:8080/"
        },
        "id": "wItEv4xjHPvv",
        "outputId": "de6cd8bd-8670-44e5-92ee-24ac118343ef"
      },
      "execution_count": 14,
      "outputs": [
        {
          "output_type": "stream",
          "name": "stderr",
          "text": [
            "WARNING:absl:Found untraced functions such as lstm_cell_layer_call_fn, lstm_cell_layer_call_and_return_conditional_losses, lstm_cell_1_layer_call_fn, lstm_cell_1_layer_call_and_return_conditional_losses while saving (showing 4 of 4). These functions will not be directly callable after loading.\n"
          ]
        },
        {
          "output_type": "stream",
          "name": "stdout",
          "text": [
            "INFO:tensorflow:Assets written to: MOD/assets\n"
          ]
        },
        {
          "output_type": "stream",
          "name": "stderr",
          "text": [
            "INFO:tensorflow:Assets written to: MOD/assets\n",
            "WARNING:absl:<keras.layers.recurrent.LSTMCell object at 0x7fa51fe8a390> has the same name 'LSTMCell' as a built-in Keras object. Consider renaming <class 'keras.layers.recurrent.LSTMCell'> to avoid naming conflicts when loading with `tf.keras.models.load_model`. If renaming is not possible, pass the object in the `custom_objects` parameter of the load function.\n",
            "WARNING:absl:<keras.layers.recurrent.LSTMCell object at 0x7fa51f892810> has the same name 'LSTMCell' as a built-in Keras object. Consider renaming <class 'keras.layers.recurrent.LSTMCell'> to avoid naming conflicts when loading with `tf.keras.models.load_model`. If renaming is not possible, pass the object in the `custom_objects` parameter of the load function.\n"
          ]
        }
      ]
    },
    {
      "cell_type": "code",
      "source": [
        "model=load_model(\"MOD\")\n",
        "#generate random index\n",
        "index = np.random.randint(0,len(x_test)-1)\n",
        "#get the data of generated index from x_test\n",
        "music_pattern = x_test[index]\n",
        "\n",
        "out_pred=[] #it will store predicted notes\n",
        "\n",
        "#iterate till 200 note is generated\n",
        "for i in range(200):\n",
        "\n",
        "  #reshape the music pattern \n",
        "  music_pattern = music_pattern.reshape(1,len(music_pattern),1)\n",
        "  \n",
        "  #get the maximum probability value from the predicted output\n",
        "  pred_index = np.argmax(model.predict(music_pattern))\n",
        "  #get the note using predicted index and\n",
        "  #append to the output prediction list\n",
        "  out_pred.append(ind2note[pred_index])\n",
        "  music_pattern = np.append(music_pattern,pred_index)\n",
        "  \n",
        "  #update the music pattern with one timestep ahead\n",
        "  music_pattern = music_pattern[1:]"
      ],
      "metadata": {
        "id": "HDFEVFYtMJEN"
      },
      "execution_count": 15,
      "outputs": []
    },
    {
      "cell_type": "code",
      "source": [
        "output_notes = []\n",
        "for offset,pattern in enumerate(out_pred):\n",
        "  #if pattern is a chord instance\n",
        "  if ('.' in pattern) or pattern.isdigit():\n",
        "    #split notes from the chord\n",
        "    notes_in_chord = pattern.split('.')\n",
        "    notes = []\n",
        "    for current_note in notes_in_chord:\n",
        "        i_curr_note=int(current_note)\n",
        "        #cast the current note to Note object and\n",
        "        #append the current note \n",
        "        new_note = note.Note(i_curr_note)\n",
        "        new_note.storedInstrument = instrument.Piano()\n",
        "        notes.append(new_note)\n",
        "    \n",
        "    #cast the current note to Chord object\n",
        "    #offset will be 1 step ahead from the previous note\n",
        "    #as it will prevent notes to stack up \n",
        "    new_chord = chord.Chord(notes)\n",
        "    new_chord.offset = offset\n",
        "    output_notes.append(new_chord)\n",
        "  \n",
        "  else:\n",
        "    #cast the pattern to Note object apply the offset and \n",
        "    #append the note\n",
        "    new_note = note.Note(pattern)\n",
        "    new_note.offset = offset\n",
        "    new_note.storedInstrument = instrument.Piano()\n",
        "    output_notes.append(new_note)\n",
        "\n",
        "#save the midi file \n",
        "midi_stream = stream.Stream(output_notes)\n",
        "midi_stream.write('midi', fp='AI_composed_music.mid')"
      ],
      "metadata": {
        "colab": {
          "base_uri": "https://localhost:8080/",
          "height": 36
        },
        "id": "2SxRyyABMN_f",
        "outputId": "8a3109fa-fe05-46ee-bef2-b8c2bc6922b2"
      },
      "execution_count": 19,
      "outputs": [
        {
          "output_type": "execute_result",
          "data": {
            "text/plain": [
              "'AI_composed_music.mid'"
            ],
            "application/vnd.google.colaboratory.intrinsic+json": {
              "type": "string"
            }
          },
          "metadata": {},
          "execution_count": 19
        }
      ]
    },
    {
      "cell_type": "code",
      "source": [
        ""
      ],
      "metadata": {
        "id": "h2XRlRvAMTGW"
      },
      "execution_count": 17,
      "outputs": []
    }
  ]
}